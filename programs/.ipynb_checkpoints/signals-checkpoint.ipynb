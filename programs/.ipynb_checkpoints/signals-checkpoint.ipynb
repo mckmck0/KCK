{
 "cells": [
  {
   "cell_type": "markdown",
   "id": "99fff843",
   "metadata": {},
   "source": [
    "# Przetwarzanie sygnałów"
   ]
  },
  {
   "cell_type": "markdown",
   "id": "ade65d86",
   "metadata": {},
   "source": [
    "## Zadanie 1"
   ]
  },
  {
   "cell_type": "markdown",
   "id": "47fc6a09",
   "metadata": {},
   "source": [
    "#### a) Przeanalizuj poniższy skrypt"
   ]
  },
  {
   "cell_type": "code",
   "execution_count": 1,
   "id": "1ac1e60d",
   "metadata": {},
   "outputs": [
    {
     "data": {
      "image/png": "[encoded data removed]",
      "text/plain": [
       "<Figure size 1200x480 with 2 Axes>"
      ]
     },
     "metadata": {},
     "output_type": "display_data"
    }
   ],
   "source": [
    "from pylab import *\n",
    "from numpy import *\n",
    "import math\n",
    "from ipywidgets import *\n",
    "\n",
    "#--- Definiujemy sygnal wejsciowy\n",
    "A = 1        # Amplituda sygnalu\n",
    "F = 2.0      # Czestotliwosc sygnalu [Hz]\n",
    "T = 1/F      # Okres sygnalu [s]\n",
    "f = lambda t : A * np.sin(2*pi*t*F)    # Def. analizowanej funkcji (sygnalu)\n",
    "\n",
    "#--- Probkujemy sygnal\n",
    "LP = 1       # Liczba analizowanych pełnych okresów sygnalu (okresow)\n",
    "w = 40       # Częstotliwość probkowania [Hz]\n",
    "TW = 1/w     # Okres probkowania [s] (co ile sekund pobieramy próbkę)\n",
    "\n",
    "t = np.arange(0, LP*T, TW) # Momenty, w których pobieramy próbki (oś OX)\n",
    "n = len(t)                 # Liczba próbek\n",
    "\n",
    "signal = f(t)   \n",
    "\n",
    "#--- Rysujemy sygnał (niebieskie kółka)\n",
    "fig = plt.figure(figsize=(15, 6), dpi=80)   \n",
    "ax = fig.add_subplot(121)\n",
    "ax.plot(t, signal, 'o')\n",
    "\n",
    "#--- Rysujemy sygnał przed spróbkowaniem (dla wizualizacji)\n",
    "base_t = np.arange(0, LP * T, 1/200)\n",
    "base_signal = f(base_t)\n",
    "ax.plot(base_t, base_signal, linestyle='-', color='red')\n",
    "ax.set_ylim([min(base_signal), max(base_signal)])\n",
    "\n",
    "#--- Wykonujemy FFT\n",
    "signal1 = fft.fft(signal)\n",
    "signal1 = abs(signal1) # moduł\n",
    "\n",
    "#--- Rysujemy FFT\n",
    "ax = fig.add_subplot(122)\n",
    "ymax = max(signal1)\n",
    "#ax.set_ylim([0.0, max(1.1*ymax, 3.0)])\n",
    "\n",
    "freqs = range(n)\n",
    "stem(freqs, signal1, '-*');"
   ]
  },
  {
   "cell_type": "markdown",
   "id": "bdca8e9c",
   "metadata": {},
   "source": [
    "**UWAGA**: do dalszych ćwiczeń warto powyższy skrypt przekształcić na funkcję o wielu argumentach, typu: amplituda, częstotliwość próbkowania, liczba przebiegów. Oczywiście dla wygody, należy nadać wartości domyślne argumentom funkcji."
   ]
  },
  {
   "cell_type": "markdown",
   "id": "b5e1ab1a",
   "metadata": {},
   "source": [
    "UWAGA DLA CHĘTNYCH: można wykorzystać 'interact', dzięki któremu można zmieniac parametry danej funkcji i na bieżąco obserwować zmiany. Poniższy kod przedstawia sposób wykorzystania interact:"
   ]
  },
  {
   "cell_type": "code",
   "execution_count": 2,
   "id": "cf83e408",
   "metadata": {},
   "outputs": [
    {
     "data": {
      "application/vnd.jupyter.widget-view+json": {
       "model_id": "e6f70d2d9138408babf7f4b5e4db8931",
       "version_major": 2,
       "version_minor": 0
      },
      "text/plain": [
       "interactive(children=(FloatSlider(value=2.0, description='a', max=5.0, min=-5.0, step=0.5), FloatSlider(value=…"
      ]
     },
     "metadata": {},
     "output_type": "display_data"
    },
    {
     "data": {
      "text/plain": [
       "<function __main__.prosta(a=2, b=0)>"
      ]
     },
     "execution_count": 2,
     "metadata": {},
     "output_type": "execute_result"
    }
   ],
   "source": [
    "def prosta(a=2, b=0):\n",
    "    x = np.linspace(-5, 5, 100, endpoint=False) # punkty na osi OX [s]\n",
    "    f = lambda x : a*x + b\n",
    "    y = f(x)   \n",
    "    \n",
    "    fig = plt.figure(figsize=(6, 3), dpi=80)\n",
    "    ax = fig.add_subplot(111)\n",
    "    ax.set_xlim(-5, 5)\n",
    "    ax.set_ylim(-5, 5)\n",
    "    ax.plot(x, y)\n",
    "\n",
    "interact(prosta, a=(-5,5,0.5), b=(-5,5,0.5))"
   ]
  },
  {
   "cell_type": "markdown",
   "id": "c1472904",
   "metadata": {},
   "source": [
    "#### b) Zmień częstotliwość próbkowania na 50Hz."
   ]
  },
  {
   "cell_type": "code",
   "execution_count": 2,
   "id": "ff5fcec5",
   "metadata": {},
   "outputs": [],
   "source": []
  },
  {
   "cell_type": "markdown",
   "id": "60305d5b",
   "metadata": {},
   "source": [
    "#### c) Punkty na osi OX spektrum są teraz kolejnymi liczbami naturalnymi, a nie częstotliwościami w Hz. Popraw skrypt (funkcje), tak aby oś OX spektrum była w Hz (podpowiedź: oś OX rozpoczyna się od 0Hz, a kończy się na (prawie!)  Hz, gdzie  jest częstotliwością próbkowania). Następnie: Upewnij się, że spektrum dla 1Hz-owego sinusa i pięciu (LP=5) analizowanych przebiegów wygląda teraz prawidłowo."
   ]
  },
  {
   "cell_type": "code",
   "execution_count": 2,
   "id": "1c899c33",
   "metadata": {},
   "outputs": [],
   "source": []
  },
  {
   "cell_type": "markdown",
   "id": "7e57ab87",
   "metadata": {},
   "source": [
    "#### d) Podpisz osie obu wykresów, używając funkcji xlabel() i ylabel(). Pamiętaj o jednostkach."
   ]
  },
  {
   "cell_type": "code",
   "execution_count": 2,
   "id": "f2ed076e",
   "metadata": {},
   "outputs": [],
   "source": []
  },
  {
   "cell_type": "markdown",
   "id": "189c197f",
   "metadata": {},
   "source": [
    "#### e) Wygeneruj spektrum dla funkcji sinus o częstotliwościach 5Hz i 21Hz, dla czestotliwości próbkowania 20Hz i 20 (LP=20) analizowanych przebiegów. <font color='red'>Czy rozpoznajesz te funkcje patrząc na ich spróbkowane wykresy</font>? Odczytaj w drugim przypadku uzyskaną częstotliwość z FFT. <font color='red'>Dlaczego uzyskano taki wynik</font>?"
   ]
  },
  {
   "cell_type": "code",
   "execution_count": 2,
   "id": "09467899",
   "metadata": {},
   "outputs": [],
   "source": []
  },
  {
   "cell_type": "markdown",
   "id": "d6f344d7",
   "metadata": {},
   "source": [
    "#### f) Porównaj spektrum funkcji $sin(F*2\\pi t)$, $2sin(F*2\\pi t)$ i $3sin(F*2\\pi t)$. <font color='red'>Jak zmienia się wartość na osi OY na wykresie spektrum</font>?"
   ]
  },
  {
   "cell_type": "code",
   "execution_count": 2,
   "id": "cf9f8ed9",
   "metadata": {},
   "outputs": [],
   "source": []
  },
  {
   "cell_type": "markdown",
   "id": "2be2c0fd",
   "metadata": {},
   "source": [
    "#### g) Ile punktów jest na wykresach przy częstotliwości próbkowania 50Hz, $T=1s$? Zwiększ dwukrotnie liczbę próbek poprzez zwiększenie częstotliwości próbkowania. Następnie: dla $sin(F*2\\pi t)$ porównaj wartość na osi OY spektrum uzyskane w tym oraz poprzednim punkcie."
   ]
  },
  {
   "cell_type": "code",
   "execution_count": 2,
   "id": "52f263ff",
   "metadata": {},
   "outputs": [],
   "source": []
  },
  {
   "cell_type": "markdown",
   "id": "92e30dd1",
   "metadata": {},
   "source": [
    "#### h) Na podstawie wyników uzyskanych w dwóch poprzednich punktach przeskaluj oś OY spektrum tak, aby wskazywała wartości amplitud badanych sygnałów. Sprawdź wyniki dla kilku wybranych funkcji (tu fajnie użyć interact), częstotliwości próbkowania oraz rozważanych liczb punktów. Pamiętaj o wysokim LP."
   ]
  },
  {
   "cell_type": "code",
   "execution_count": 2,
   "id": "845fb4bb",
   "metadata": {},
   "outputs": [],
   "source": []
  },
  {
   "cell_type": "markdown",
   "id": "a7ce1716",
   "metadata": {},
   "source": [
    "## Zadanie 2"
   ]
  },
  {
   "cell_type": "markdown",
   "id": "3aee956a",
   "metadata": {},
   "source": [
    "#### Plik spots.txt zawiera wartości aktywności Słońca w kolejnych miesiącach. Wykreśl ten sygnał oraz jego spektrum. Za pomocą FFT, oblicz częstotliwość cyklu aktywności słonecznej. Pamiętaj aby przeskalować oś OX na wykresie spektrum. Możesz przyjąć jako rozpatrywany okres rok, wówczas częstotliwość próbkowania będzie wynosiła 12."
   ]
  },
  {
   "cell_type": "code",
   "execution_count": 2,
   "id": "e3511424",
   "metadata": {},
   "outputs": [],
   "source": []
  },
  {
   "cell_type": "markdown",
   "id": "b7575938",
   "metadata": {},
   "source": [
    "## Zadanie 3"
   ]
  },
  {
   "cell_type": "markdown",
   "id": "c78a38ee",
   "metadata": {},
   "source": [
    "#### Proste filtrowanie. Wykreśl sygnał sin(2*pi*t) + sin(4*pi*t), T=1s, w=20Hz. Za pomocą FFT, przekształć sygnał do dziedziny częstotliwości. Następnie usuń składowe o częstotliwości 2Hz. Tak zmodyfikowany sygnał przekształć do dziedziny czasu i wykreśl go."
   ]
  },
  {
   "cell_type": "code",
   "execution_count": 2,
   "id": "e0ea8768",
   "metadata": {},
   "outputs": [],
   "source": []
  },
  {
   "cell_type": "markdown",
   "id": "be90b782",
   "metadata": {},
   "source": [
    "## Zadanie 4"
   ]
  },
  {
   "cell_type": "markdown",
   "id": "1867f4ad",
   "metadata": {},
   "source": [
    "#### Wczytaj plik err.wav. Wykreśl jego spektrum. Spróbuj także skali logarytmicznej. Określ dominujące w sygnale częstotliwości."
   ]
  },
  {
   "cell_type": "code",
   "execution_count": 2,
   "id": "3a45b701",
   "metadata": {},
   "outputs": [],
   "source": []
  }
 ],
 "metadata": {
  "kernelspec": {
   "display_name": "Python 3 (ipykernel)",
   "language": "python",
   "name": "python3"
  },
  "language_info": {
   "codemirror_mode": {
    "name": "ipython",
    "version": 3
   },
   "file_extension": ".py",
   "mimetype": "text/x-python",
   "name": "python",
   "nbconvert_exporter": "python",
   "pygments_lexer": "ipython3",
   "version": "3.10.13"
  }
 },
 "nbformat": 4,
 "nbformat_minor": 5
}
